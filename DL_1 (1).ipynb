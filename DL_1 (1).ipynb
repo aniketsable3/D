{
 "cells": [
  {
   "cell_type": "markdown",
   "metadata": {
    "id": "y0kQAsW-3Ppa"
   },
   "source": [
    "Title: **Assignment 1: Study of Deep learning Packages: Tensorflow, Keras, Theano and PyTorch.\n",
    "Document the distinct features and functionality of the packages.**<br>"
   ]
  },
  {
   "cell_type": "code",
   "execution_count": 1,
   "metadata": {
    "id": "oecPSoNR3-yP"
   },
   "outputs": [],
   "source": [
    "import numpy as np"
   ]
  },
  {
   "cell_type": "markdown",
   "metadata": {
    "id": "SZ4PqakF32cQ"
   },
   "source": [
    "**1. Tensorflow**"
   ]
  },
  {
   "cell_type": "code",
   "execution_count": 2,
   "metadata": {},
   "outputs": [
    {
     "name": "stdout",
     "output_type": "stream",
     "text": [
      "Requirement already satisfied: tensorflow in c:\\users\\anike\\anaconda3\\lib\\site-packages (2.17.0)\n",
      "Requirement already satisfied: tensorflow-intel==2.17.0 in c:\\users\\anike\\anaconda3\\lib\\site-packages (from tensorflow) (2.17.0)\n",
      "Requirement already satisfied: absl-py>=1.0.0 in c:\\users\\anike\\anaconda3\\lib\\site-packages (from tensorflow-intel==2.17.0->tensorflow) (2.1.0)\n",
      "Requirement already satisfied: astunparse>=1.6.0 in c:\\users\\anike\\anaconda3\\lib\\site-packages (from tensorflow-intel==2.17.0->tensorflow) (1.6.3)\n",
      "Requirement already satisfied: flatbuffers>=24.3.25 in c:\\users\\anike\\anaconda3\\lib\\site-packages (from tensorflow-intel==2.17.0->tensorflow) (24.3.25)\n",
      "Requirement already satisfied: gast!=0.5.0,!=0.5.1,!=0.5.2,>=0.2.1 in c:\\users\\anike\\anaconda3\\lib\\site-packages (from tensorflow-intel==2.17.0->tensorflow) (0.6.0)\n",
      "Requirement already satisfied: google-pasta>=0.1.1 in c:\\users\\anike\\anaconda3\\lib\\site-packages (from tensorflow-intel==2.17.0->tensorflow) (0.2.0)\n",
      "Requirement already satisfied: h5py>=3.10.0 in c:\\users\\anike\\anaconda3\\lib\\site-packages (from tensorflow-intel==2.17.0->tensorflow) (3.12.1)\n",
      "Requirement already satisfied: libclang>=13.0.0 in c:\\users\\anike\\anaconda3\\lib\\site-packages (from tensorflow-intel==2.17.0->tensorflow) (18.1.1)\n",
      "Requirement already satisfied: ml-dtypes<0.5.0,>=0.3.1 in c:\\users\\anike\\anaconda3\\lib\\site-packages (from tensorflow-intel==2.17.0->tensorflow) (0.4.1)\n",
      "Requirement already satisfied: opt-einsum>=2.3.2 in c:\\users\\anike\\anaconda3\\lib\\site-packages (from tensorflow-intel==2.17.0->tensorflow) (3.4.0)\n",
      "Requirement already satisfied: packaging in c:\\users\\anike\\anaconda3\\lib\\site-packages (from tensorflow-intel==2.17.0->tensorflow) (23.1)\n",
      "Requirement already satisfied: protobuf!=4.21.0,!=4.21.1,!=4.21.2,!=4.21.3,!=4.21.4,!=4.21.5,<5.0.0dev,>=3.20.3 in c:\\users\\anike\\anaconda3\\lib\\site-packages (from tensorflow-intel==2.17.0->tensorflow) (4.25.5)\n",
      "Requirement already satisfied: requests<3,>=2.21.0 in c:\\users\\anike\\anaconda3\\lib\\site-packages (from tensorflow-intel==2.17.0->tensorflow) (2.31.0)\n",
      "Requirement already satisfied: setuptools in c:\\users\\anike\\anaconda3\\lib\\site-packages (from tensorflow-intel==2.17.0->tensorflow) (68.0.0)\n",
      "Requirement already satisfied: six>=1.12.0 in c:\\users\\anike\\anaconda3\\lib\\site-packages (from tensorflow-intel==2.17.0->tensorflow) (1.16.0)\n",
      "Requirement already satisfied: termcolor>=1.1.0 in c:\\users\\anike\\anaconda3\\lib\\site-packages (from tensorflow-intel==2.17.0->tensorflow) (2.5.0)\n",
      "Requirement already satisfied: typing-extensions>=3.6.6 in c:\\users\\anike\\anaconda3\\lib\\site-packages (from tensorflow-intel==2.17.0->tensorflow) (4.7.1)\n",
      "Requirement already satisfied: wrapt>=1.11.0 in c:\\users\\anike\\anaconda3\\lib\\site-packages (from tensorflow-intel==2.17.0->tensorflow) (1.14.1)\n",
      "Requirement already satisfied: grpcio<2.0,>=1.24.3 in c:\\users\\anike\\anaconda3\\lib\\site-packages (from tensorflow-intel==2.17.0->tensorflow) (1.67.0)\n",
      "Requirement already satisfied: tensorboard<2.18,>=2.17 in c:\\users\\anike\\anaconda3\\lib\\site-packages (from tensorflow-intel==2.17.0->tensorflow) (2.17.1)\n",
      "Requirement already satisfied: keras>=3.2.0 in c:\\users\\anike\\anaconda3\\lib\\site-packages (from tensorflow-intel==2.17.0->tensorflow) (3.6.0)\n",
      "Requirement already satisfied: tensorflow-io-gcs-filesystem>=0.23.1 in c:\\users\\anike\\anaconda3\\lib\\site-packages (from tensorflow-intel==2.17.0->tensorflow) (0.31.0)\n",
      "Requirement already satisfied: numpy<2.0.0,>=1.23.5 in c:\\users\\anike\\anaconda3\\lib\\site-packages (from tensorflow-intel==2.17.0->tensorflow) (1.24.3)\n",
      "Requirement already satisfied: wheel<1.0,>=0.23.0 in c:\\users\\anike\\anaconda3\\lib\\site-packages (from astunparse>=1.6.0->tensorflow-intel==2.17.0->tensorflow) (0.38.4)\n",
      "Requirement already satisfied: rich in c:\\users\\anike\\anaconda3\\lib\\site-packages (from keras>=3.2.0->tensorflow-intel==2.17.0->tensorflow) (13.9.3)\n",
      "Requirement already satisfied: namex in c:\\users\\anike\\anaconda3\\lib\\site-packages (from keras>=3.2.0->tensorflow-intel==2.17.0->tensorflow) (0.0.8)\n",
      "Requirement already satisfied: optree in c:\\users\\anike\\anaconda3\\lib\\site-packages (from keras>=3.2.0->tensorflow-intel==2.17.0->tensorflow) (0.13.0)\n",
      "Requirement already satisfied: charset-normalizer<4,>=2 in c:\\users\\anike\\anaconda3\\lib\\site-packages (from requests<3,>=2.21.0->tensorflow-intel==2.17.0->tensorflow) (2.0.4)\n",
      "Requirement already satisfied: idna<4,>=2.5 in c:\\users\\anike\\anaconda3\\lib\\site-packages (from requests<3,>=2.21.0->tensorflow-intel==2.17.0->tensorflow) (3.4)\n",
      "Requirement already satisfied: urllib3<3,>=1.21.1 in c:\\users\\anike\\anaconda3\\lib\\site-packages (from requests<3,>=2.21.0->tensorflow-intel==2.17.0->tensorflow) (1.26.16)\n",
      "Requirement already satisfied: certifi>=2017.4.17 in c:\\users\\anike\\anaconda3\\lib\\site-packages (from requests<3,>=2.21.0->tensorflow-intel==2.17.0->tensorflow) (2023.7.22)\n",
      "Requirement already satisfied: markdown>=2.6.8 in c:\\users\\anike\\anaconda3\\lib\\site-packages (from tensorboard<2.18,>=2.17->tensorflow-intel==2.17.0->tensorflow) (3.4.1)\n",
      "Requirement already satisfied: tensorboard-data-server<0.8.0,>=0.7.0 in c:\\users\\anike\\anaconda3\\lib\\site-packages (from tensorboard<2.18,>=2.17->tensorflow-intel==2.17.0->tensorflow) (0.7.2)\n",
      "Requirement already satisfied: werkzeug>=1.0.1 in c:\\users\\anike\\anaconda3\\lib\\site-packages (from tensorboard<2.18,>=2.17->tensorflow-intel==2.17.0->tensorflow) (2.2.3)\n",
      "Requirement already satisfied: MarkupSafe>=2.1.1 in c:\\users\\anike\\anaconda3\\lib\\site-packages (from werkzeug>=1.0.1->tensorboard<2.18,>=2.17->tensorflow-intel==2.17.0->tensorflow) (2.1.1)\n",
      "Requirement already satisfied: markdown-it-py>=2.2.0 in c:\\users\\anike\\anaconda3\\lib\\site-packages (from rich->keras>=3.2.0->tensorflow-intel==2.17.0->tensorflow) (2.2.0)\n",
      "Requirement already satisfied: pygments<3.0.0,>=2.13.0 in c:\\users\\anike\\anaconda3\\lib\\site-packages (from rich->keras>=3.2.0->tensorflow-intel==2.17.0->tensorflow) (2.15.1)\n",
      "Requirement already satisfied: mdurl~=0.1 in c:\\users\\anike\\anaconda3\\lib\\site-packages (from markdown-it-py>=2.2.0->rich->keras>=3.2.0->tensorflow-intel==2.17.0->tensorflow) (0.1.0)\n"
     ]
    },
    {
     "name": "stderr",
     "output_type": "stream",
     "text": [
      "WARNING: There was an error checking the latest version of pip.\n"
     ]
    }
   ],
   "source": [
    "!pip install tensorflow"
   ]
  },
  {
   "cell_type": "markdown",
   "metadata": {
    "id": "6IrNy3Ek4Dtv"
   },
   "source": [
    "**2. Keras**"
   ]
  },
  {
   "cell_type": "code",
   "execution_count": 3,
   "metadata": {
    "colab": {
     "base_uri": "https://localhost:8080/"
    },
    "id": "oda3NOiV4GcJ",
    "outputId": "ffc60e3a-1a0b-4a54-9998-873ad2b5f257"
   },
   "outputs": [],
   "source": [
    "from keras import datasets\n",
    "# Load MNIST datasets from keras\n",
    "(train_images, train_labels), (test_images, test_labels) = datasets.mnist.load_data()"
   ]
  },
  {
   "cell_type": "code",
   "execution_count": 4,
   "metadata": {
    "colab": {
     "base_uri": "https://localhost:8080/"
    },
    "id": "FcugfdER4LP6",
    "outputId": "24d8e04c-aee6-446e-ac99-24de501f9706"
   },
   "outputs": [
    {
     "data": {
      "text/plain": [
       "(60000, 28, 28)"
      ]
     },
     "execution_count": 4,
     "metadata": {},
     "output_type": "execute_result"
    }
   ],
   "source": [
    "train_images.shape"
   ]
  },
  {
   "cell_type": "code",
   "execution_count": 5,
   "metadata": {
    "colab": {
     "base_uri": "https://localhost:8080/"
    },
    "id": "8cfuAeKo4OeX",
    "outputId": "6c0d9462-aa3a-4ba1-aaf5-e1191e16792d"
   },
   "outputs": [
    {
     "data": {
      "text/plain": [
       "(10000, 28, 28)"
      ]
     },
     "execution_count": 5,
     "metadata": {},
     "output_type": "execute_result"
    }
   ],
   "source": [
    "test_images.shape"
   ]
  },
  {
   "cell_type": "markdown",
   "metadata": {
    "id": "a8hDZ2mn4PRn"
   },
   "source": [
    "**3. Theano**"
   ]
  },
  {
   "cell_type": "code",
   "execution_count": 6,
   "metadata": {
    "colab": {
     "base_uri": "https://localhost:8080/"
    },
    "id": "_3g_Lsce4Q9O",
    "outputId": "c40852cb-86a4-4f47-c7e4-b003c3d746d0"
   },
   "outputs": [
    {
     "name": "stdout",
     "output_type": "stream",
     "text": [
      "Collecting Theano\n",
      "  Downloading Theano-1.0.5.tar.gz (2.8 MB)\n",
      "     ---------------------------------------- 0.0/2.8 MB ? eta -:--:--\n",
      "     ---------------------------------------- 0.0/2.8 MB ? eta -:--:--\n",
      "     ---------------------------------------- 0.0/2.8 MB ? eta -:--:--\n",
      "     ---------------------------------------- 0.0/2.8 MB ? eta -:--:--\n",
      "     ---------------------------------------- 0.0/2.8 MB 93.9 kB/s eta 0:00:31\n",
      "     ---------------------------------------- 0.0/2.8 MB 131.3 kB/s eta 0:00:22\n",
      "     ---------------------------------------- 0.0/2.8 MB 131.3 kB/s eta 0:00:22\n",
      "      --------------------------------------- 0.0/2.8 MB 140.3 kB/s eta 0:00:20\n",
      "      --------------------------------------- 0.1/2.8 MB 182.2 kB/s eta 0:00:16\n",
      "     - -------------------------------------- 0.1/2.8 MB 229.7 kB/s eta 0:00:13\n",
      "     - -------------------------------------- 0.1/2.8 MB 288.8 kB/s eta 0:00:10\n",
      "     -- ------------------------------------- 0.1/2.8 MB 327.9 kB/s eta 0:00:09\n",
      "     -- ------------------------------------- 0.2/2.8 MB 327.5 kB/s eta 0:00:09\n",
      "     -- ------------------------------------- 0.2/2.8 MB 308.5 kB/s eta 0:00:09\n",
      "     --- ------------------------------------ 0.2/2.8 MB 372.0 kB/s eta 0:00:08\n",
      "     --- ------------------------------------ 0.2/2.8 MB 372.0 kB/s eta 0:00:08\n",
      "     --- ------------------------------------ 0.2/2.8 MB 376.8 kB/s eta 0:00:07\n",
      "     --- ------------------------------------ 0.2/2.8 MB 376.8 kB/s eta 0:00:07\n",
      "     --- ------------------------------------ 0.2/2.8 MB 376.8 kB/s eta 0:00:07\n",
      "     --- ------------------------------------ 0.3/2.8 MB 321.3 kB/s eta 0:00:09\n",
      "     ---- ----------------------------------- 0.3/2.8 MB 358.6 kB/s eta 0:00:08\n",
      "     ---- ----------------------------------- 0.3/2.8 MB 358.6 kB/s eta 0:00:08\n",
      "     ---- ----------------------------------- 0.3/2.8 MB 361.7 kB/s eta 0:00:07\n",
      "     ----- ---------------------------------- 0.4/2.8 MB 365.3 kB/s eta 0:00:07\n",
      "     ----- ---------------------------------- 0.4/2.8 MB 365.3 kB/s eta 0:00:07\n",
      "     ----- ---------------------------------- 0.4/2.8 MB 365.3 kB/s eta 0:00:07\n",
      "     ----- ---------------------------------- 0.4/2.8 MB 332.5 kB/s eta 0:00:08\n",
      "     ----- ---------------------------------- 0.4/2.8 MB 336.8 kB/s eta 0:00:08\n",
      "     ----- ---------------------------------- 0.4/2.8 MB 354.3 kB/s eta 0:00:07\n",
      "     ----- ---------------------------------- 0.4/2.8 MB 354.3 kB/s eta 0:00:07\n",
      "     ------ --------------------------------- 0.5/2.8 MB 356.8 kB/s eta 0:00:07\n",
      "     ------- -------------------------------- 0.5/2.8 MB 399.7 kB/s eta 0:00:06\n",
      "     ------- -------------------------------- 0.6/2.8 MB 408.7 kB/s eta 0:00:06\n",
      "     -------- ------------------------------- 0.6/2.8 MB 414.4 kB/s eta 0:00:06\n",
      "     -------- ------------------------------- 0.6/2.8 MB 420.4 kB/s eta 0:00:06\n",
      "     -------- ------------------------------- 0.6/2.8 MB 434.7 kB/s eta 0:00:06\n",
      "     --------- ------------------------------ 0.7/2.8 MB 430.1 kB/s eta 0:00:06\n",
      "     --------- ------------------------------ 0.7/2.8 MB 430.1 kB/s eta 0:00:06\n",
      "     --------- ------------------------------ 0.7/2.8 MB 430.1 kB/s eta 0:00:06\n",
      "     --------- ------------------------------ 0.7/2.8 MB 430.1 kB/s eta 0:00:06\n",
      "     --------- ------------------------------ 0.7/2.8 MB 400.6 kB/s eta 0:00:06\n",
      "     ---------- ----------------------------- 0.8/2.8 MB 451.0 kB/s eta 0:00:05\n",
      "     ----------- ---------------------------- 0.8/2.8 MB 446.7 kB/s eta 0:00:05\n",
      "     ----------- ---------------------------- 0.8/2.8 MB 467.3 kB/s eta 0:00:05\n",
      "     ----------- ---------------------------- 0.8/2.8 MB 467.3 kB/s eta 0:00:05\n",
      "     ------------ --------------------------- 0.9/2.8 MB 471.4 kB/s eta 0:00:05\n",
      "     ------------- -------------------------- 0.9/2.8 MB 468.1 kB/s eta 0:00:05\n",
      "     ------------- -------------------------- 0.9/2.8 MB 469.7 kB/s eta 0:00:05\n",
      "     ------------- -------------------------- 1.0/2.8 MB 479.0 kB/s eta 0:00:04\n",
      "     ------------- -------------------------- 1.0/2.8 MB 476.7 kB/s eta 0:00:04\n",
      "     -------------- ------------------------- 1.0/2.8 MB 475.8 kB/s eta 0:00:04\n",
      "     --------------- ------------------------ 1.1/2.8 MB 490.3 kB/s eta 0:00:04\n",
      "     --------------- ------------------------ 1.1/2.8 MB 497.4 kB/s eta 0:00:04\n",
      "     --------------- ------------------------ 1.1/2.8 MB 499.6 kB/s eta 0:00:04\n",
      "     --------------- ------------------------ 1.1/2.8 MB 499.6 kB/s eta 0:00:04\n",
      "     ---------------- ----------------------- 1.2/2.8 MB 494.9 kB/s eta 0:00:04\n",
      "     ----------------- ---------------------- 1.2/2.8 MB 498.0 kB/s eta 0:00:04\n",
      "     ----------------- ---------------------- 1.2/2.8 MB 495.8 kB/s eta 0:00:04\n",
      "     ------------------ --------------------- 1.3/2.8 MB 508.9 kB/s eta 0:00:04\n",
      "     ------------------ --------------------- 1.3/2.8 MB 517.9 kB/s eta 0:00:03\n",
      "     ------------------ --------------------- 1.3/2.8 MB 519.6 kB/s eta 0:00:03\n",
      "     ------------------- -------------------- 1.4/2.8 MB 515.9 kB/s eta 0:00:03\n",
      "     ------------------- -------------------- 1.4/2.8 MB 515.9 kB/s eta 0:00:03\n",
      "     ------------------- -------------------- 1.4/2.8 MB 510.7 kB/s eta 0:00:03\n",
      "     -------------------- ------------------- 1.4/2.8 MB 511.1 kB/s eta 0:00:03\n",
      "     -------------------- ------------------- 1.4/2.8 MB 511.1 kB/s eta 0:00:03\n",
      "     -------------------- ------------------- 1.5/2.8 MB 507.7 kB/s eta 0:00:03\n",
      "     -------------------- ------------------- 1.5/2.8 MB 508.6 kB/s eta 0:00:03\n",
      "     -------------------- ------------------- 1.5/2.8 MB 508.6 kB/s eta 0:00:03\n",
      "     -------------------- ------------------- 1.5/2.8 MB 499.3 kB/s eta 0:00:03\n",
      "     --------------------- ------------------ 1.5/2.8 MB 498.3 kB/s eta 0:00:03\n",
      "     --------------------- ------------------ 1.5/2.8 MB 494.0 kB/s eta 0:00:03\n",
      "     --------------------- ------------------ 1.5/2.8 MB 493.1 kB/s eta 0:00:03\n",
      "     --------------------- ------------------ 1.5/2.8 MB 493.1 kB/s eta 0:00:03\n",
      "     --------------------- ------------------ 1.5/2.8 MB 486.7 kB/s eta 0:00:03\n",
      "     --------------------- ------------------ 1.5/2.8 MB 486.7 kB/s eta 0:00:03\n",
      "     ---------------------- ----------------- 1.6/2.8 MB 481.3 kB/s eta 0:00:03\n",
      "     ---------------------- ----------------- 1.6/2.8 MB 481.3 kB/s eta 0:00:03\n",
      "     ---------------------- ----------------- 1.6/2.8 MB 476.9 kB/s eta 0:00:03\n",
      "     ---------------------- ----------------- 1.6/2.8 MB 474.2 kB/s eta 0:00:03\n",
      "     ---------------------- ----------------- 1.6/2.8 MB 474.2 kB/s eta 0:00:03\n",
      "     ----------------------- ---------------- 1.6/2.8 MB 472.3 kB/s eta 0:00:03\n",
      "     ----------------------- ---------------- 1.6/2.8 MB 472.3 kB/s eta 0:00:03\n",
      "     ----------------------- ---------------- 1.6/2.8 MB 472.3 kB/s eta 0:00:03\n",
      "     ----------------------- ---------------- 1.7/2.8 MB 459.6 kB/s eta 0:00:03\n",
      "     ----------------------- ---------------- 1.7/2.8 MB 459.6 kB/s eta 0:00:03\n",
      "     ----------------------- ---------------- 1.7/2.8 MB 454.6 kB/s eta 0:00:03\n",
      "     ----------------------- ---------------- 1.7/2.8 MB 454.6 kB/s eta 0:00:03\n",
      "     ----------------------- ---------------- 1.7/2.8 MB 450.6 kB/s eta 0:00:03\n",
      "     ----------------------- ---------------- 1.7/2.8 MB 450.6 kB/s eta 0:00:03\n",
      "     ----------------------- ---------------- 1.7/2.8 MB 450.6 kB/s eta 0:00:03\n",
      "     ----------------------- ---------------- 1.7/2.8 MB 450.6 kB/s eta 0:00:03\n",
      "     ----------------------- ---------------- 1.7/2.8 MB 450.6 kB/s eta 0:00:03\n",
      "     ----------------------- ---------------- 1.7/2.8 MB 450.6 kB/s eta 0:00:03\n",
      "     ----------------------- ---------------- 1.7/2.8 MB 450.6 kB/s eta 0:00:03\n",
      "     ----------------------- ---------------- 1.7/2.8 MB 450.6 kB/s eta 0:00:03\n",
      "     ----------------------- ---------------- 1.7/2.8 MB 450.6 kB/s eta 0:00:03\n",
      "     ----------------------- ---------------- 1.7/2.8 MB 450.6 kB/s eta 0:00:03\n",
      "     ----------------------- ---------------- 1.7/2.8 MB 450.6 kB/s eta 0:00:03\n",
      "     ----------------------- ---------------- 1.7/2.8 MB 450.6 kB/s eta 0:00:03\n",
      "     ----------------------- ---------------- 1.7/2.8 MB 450.6 kB/s eta 0:00:03\n",
      "     -------------------------- ------------- 1.9/2.8 MB 435.3 kB/s eta 0:00:03\n",
      "     -------------------------- ------------- 1.9/2.8 MB 436.9 kB/s eta 0:00:03\n",
      "     --------------------------- ------------ 1.9/2.8 MB 436.2 kB/s eta 0:00:03\n",
      "     --------------------------- ------------ 1.9/2.8 MB 436.2 kB/s eta 0:00:03\n",
      "     --------------------------- ------------ 2.0/2.8 MB 433.9 kB/s eta 0:00:03\n",
      "     --------------------------- ------------ 2.0/2.8 MB 433.9 kB/s eta 0:00:02\n",
      "     ---------------------------- ----------- 2.0/2.8 MB 434.7 kB/s eta 0:00:02\n",
      "     ---------------------------- ----------- 2.0/2.8 MB 434.7 kB/s eta 0:00:02\n",
      "     ---------------------------- ----------- 2.0/2.8 MB 431.8 kB/s eta 0:00:02\n",
      "     ---------------------------- ----------- 2.0/2.8 MB 431.1 kB/s eta 0:00:02\n",
      "     ---------------------------- ----------- 2.1/2.8 MB 431.2 kB/s eta 0:00:02\n",
      "     ----------------------------- ---------- 2.1/2.8 MB 433.3 kB/s eta 0:00:02\n",
      "     ----------------------------- ---------- 2.1/2.8 MB 433.3 kB/s eta 0:00:02\n",
      "     ----------------------------- ---------- 2.1/2.8 MB 433.3 kB/s eta 0:00:02\n",
      "     ----------------------------- ---------- 2.1/2.8 MB 426.5 kB/s eta 0:00:02\n",
      "     ----------------------------- ---------- 2.1/2.8 MB 423.2 kB/s eta 0:00:02\n",
      "     ----------------------------- ---------- 2.1/2.8 MB 423.2 kB/s eta 0:00:02\n",
      "     ------------------------------ --------- 2.2/2.8 MB 426.1 kB/s eta 0:00:02\n",
      "     ------------------------------ --------- 2.2/2.8 MB 429.5 kB/s eta 0:00:02\n",
      "     ------------------------------- -------- 2.2/2.8 MB 430.3 kB/s eta 0:00:02\n",
      "     ------------------------------- -------- 2.2/2.8 MB 433.0 kB/s eta 0:00:02\n",
      "     ------------------------------- -------- 2.3/2.8 MB 428.5 kB/s eta 0:00:02\n",
      "     -------------------------------- ------- 2.3/2.8 MB 435.7 kB/s eta 0:00:02\n",
      "     --------------------------------- ------ 2.4/2.8 MB 441.4 kB/s eta 0:00:02\n",
      "     --------------------------------- ------ 2.4/2.8 MB 445.2 kB/s eta 0:00:02\n",
      "     ---------------------------------- ----- 2.4/2.8 MB 447.7 kB/s eta 0:00:01\n",
      "     ---------------------------------- ----- 2.4/2.8 MB 450.8 kB/s eta 0:00:01\n",
      "     ---------------------------------- ----- 2.4/2.8 MB 450.8 kB/s eta 0:00:01\n",
      "     ----------------------------------- ---- 2.5/2.8 MB 451.2 kB/s eta 0:00:01\n",
      "     ----------------------------------- ---- 2.5/2.8 MB 452.9 kB/s eta 0:00:01\n",
      "     ----------------------------------- ---- 2.5/2.8 MB 452.9 kB/s eta 0:00:01\n",
      "     ------------------------------------ --- 2.6/2.8 MB 455.7 kB/s eta 0:00:01\n",
      "     ------------------------------------- -- 2.6/2.8 MB 462.8 kB/s eta 0:00:01\n",
      "     ------------------------------------- -- 2.7/2.8 MB 462.5 kB/s eta 0:00:01\n",
      "     -------------------------------------- - 2.7/2.8 MB 470.7 kB/s eta 0:00:01\n",
      "     -------------------------------------- - 2.7/2.8 MB 471.6 kB/s eta 0:00:01\n",
      "     -------------------------------------- - 2.8/2.8 MB 472.6 kB/s eta 0:00:01\n",
      "     ---------------------------------------  2.8/2.8 MB 479.8 kB/s eta 0:00:01\n",
      "     ---------------------------------------- 2.8/2.8 MB 478.3 kB/s eta 0:00:00\n",
      "  Preparing metadata (setup.py): started\n",
      "  Preparing metadata (setup.py): finished with status 'done'\n",
      "Requirement already satisfied: numpy>=1.9.1 in c:\\users\\anike\\anaconda3\\lib\\site-packages (from Theano) (1.24.3)\n",
      "Requirement already satisfied: scipy>=0.14 in c:\\users\\anike\\anaconda3\\lib\\site-packages (from Theano) (1.11.1)\n",
      "Requirement already satisfied: six>=1.9.0 in c:\\users\\anike\\anaconda3\\lib\\site-packages (from Theano) (1.16.0)\n",
      "Building wheels for collected packages: Theano\n",
      "  Building wheel for Theano (setup.py): started\n",
      "  Building wheel for Theano (setup.py): finished with status 'done'\n",
      "  Created wheel for Theano: filename=Theano-1.0.5-py3-none-any.whl size=2668148 sha256=5a8fd0f3d481c02da3cacfbf96a6656ddd11a41b94837d7ca1c9339c02959fc9\n",
      "  Stored in directory: c:\\users\\anike\\appdata\\local\\pip\\cache\\wheels\\26\\1f\\2f\\02d738022626461828148150c0354e712c4ad74f1a60f10933\n",
      "Successfully built Theano\n",
      "Installing collected packages: Theano\n",
      "Successfully installed Theano-1.0.5\n"
     ]
    },
    {
     "name": "stderr",
     "output_type": "stream",
     "text": [
      "WARNING: There was an error checking the latest version of pip.\n"
     ]
    }
   ],
   "source": [
    "!pip install Theano"
   ]
  },
  {
   "cell_type": "markdown",
   "metadata": {
    "id": "H9_kUJNe4dlS"
   },
   "source": [
    "**4. PyTorch**"
   ]
  },
  {
   "cell_type": "code",
   "execution_count": null,
   "metadata": {
    "colab": {
     "base_uri": "https://localhost:8080/"
    },
    "id": "IsiiMMbN4g7I",
    "outputId": "a32ecfcc-a1c5-4a48-a03b-c40c6525d88a"
   },
   "outputs": [],
   "source": [
    "!pip3 install torch torchvision torchaudio --extra-index-url https://download.pytorch.org/whl/cu115"
   ]
  },
  {
   "cell_type": "code",
   "execution_count": null,
   "metadata": {
    "id": "cju81-Qq4mXs"
   },
   "outputs": [],
   "source": [
    "import torch\n",
    "import torch.nn as nn"
   ]
  },
  {
   "cell_type": "code",
   "execution_count": null,
   "metadata": {
    "colab": {
     "base_uri": "https://localhost:8080/"
    },
    "id": "v8Pa1fuw4o5z",
    "outputId": "3493f5e4-2780-4a88-e54a-e9215a0ab46e"
   },
   "outputs": [],
   "source": [
    "print(torch.__version__)"
   ]
  },
  {
   "cell_type": "code",
   "execution_count": null,
   "metadata": {
    "colab": {
     "base_uri": "https://localhost:8080/"
    },
    "id": "qCfnunlg4pKW",
    "outputId": "1c942374-dec0-4088-aa80-9da85c042415"
   },
   "outputs": [],
   "source": [
    "torch.cuda.is_available()"
   ]
  },
  {
   "cell_type": "code",
   "execution_count": null,
   "metadata": {},
   "outputs": [],
   "source": []
  }
 ],
 "metadata": {
  "colab": {
   "collapsed_sections": [],
   "provenance": []
  },
  "kernelspec": {
   "display_name": "Python 3 (ipykernel)",
   "language": "python",
   "name": "python3"
  },
  "language_info": {
   "codemirror_mode": {
    "name": "ipython",
    "version": 3
   },
   "file_extension": ".py",
   "mimetype": "text/x-python",
   "name": "python",
   "nbconvert_exporter": "python",
   "pygments_lexer": "ipython3",
   "version": "3.11.5"
  }
 },
 "nbformat": 4,
 "nbformat_minor": 1
}
